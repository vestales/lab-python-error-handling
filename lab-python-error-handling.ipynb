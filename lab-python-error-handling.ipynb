{
 "cells": [
  {
   "cell_type": "markdown",
   "id": "25d7736c-ba17-4aff-b6bb-66eba20fbf4e",
   "metadata": {},
   "source": [
    "# Lab | Error Handling"
   ]
  },
  {
   "cell_type": "markdown",
   "id": "bc99b386-7508-47a0-bcdb-d969deaf6c8b",
   "metadata": {},
   "source": [
    "## Exercise: Error Handling for Managing Customer Orders\n",
    "\n",
    "The implementation of your code for managing customer orders assumes that the user will always enter a valid input. \n",
    "\n",
    "For example, we could modify the `initialize_inventory` function to include error handling.\n",
    "   - If the user enters an invalid quantity (e.g., a negative value or a non-numeric value), display an error message and ask them to re-enter the quantity for that product.\n",
    "   - Use a try-except block to handle the error and continue prompting the user until a valid quantity is entered.\n",
    "\n",
    "```python\n",
    "# Step 1: Define the function for initializing the inventory with error handling\n",
    "def initialize_inventory(products):\n",
    "    inventory = {}\n",
    "    for product in products:\n",
    "        valid_quantity = False\n",
    "        while not valid_quantity:\n",
    "            try:\n",
    "                quantity = int(input(f\"Enter the quantity of {product}s available: \"))\n",
    "                if quantity < 0:\n",
    "                    raise ValueError(\"Invalid quantity! Please enter a non-negative value.\")\n",
    "                valid_quantity = True\n",
    "            except ValueError as error:\n",
    "                print(f\"Error: {error}\")\n",
    "        inventory[product] = quantity\n",
    "    return inventory\n",
    "\n",
    "# Or, in another way:\n",
    "\n",
    "def initialize_inventory(products):\n",
    "    inventory = {}\n",
    "    for product in products:\n",
    "        valid_input = False\n",
    "        while not valid_input:\n",
    "            try:\n",
    "                quantity = int(input(f\"Enter the quantity of {product}s available: \"))\n",
    "                if quantity >= 0:\n",
    "                    inventory[product] = quantity\n",
    "                    valid_input = True\n",
    "                else:\n",
    "                    print(\"Quantity cannot be negative. Please enter a valid quantity.\")\n",
    "            except ValueError:\n",
    "                print(\"Invalid input. Please enter a valid quantity.\")\n",
    "    return inventory\n",
    "```\n",
    "\n",
    "Let's enhance your code by implementing error handling to handle invalid inputs.\n",
    "\n",
    "Follow the steps below to complete the exercise:\n",
    "\n",
    "2. Modify the `calculate_total_price` function to include error handling.\n",
    "   - If the user enters an invalid price (e.g., a negative value or a non-numeric value), display an error message and ask them to re-enter the price for that product.\n",
    "   - Use a try-except block to handle the error and continue prompting the user until a valid price is entered.\n",
    "\n",
    "3. Modify the `get_customer_orders` function to include error handling.\n",
    "   - If the user enters an invalid number of orders (e.g., a negative value or a non-numeric value), display an error message and ask them to re-enter the number of orders.\n",
    "   - If the user enters an invalid product name (e.g., a product name that is not in the inventory), or that doesn't have stock available, display an error message and ask them to re-enter the product name. *Hint: you will need to pass inventory as a parameter*\n",
    "   - Use a try-except block to handle the error and continue prompting the user until a valid product name is entered.\n",
    "\n",
    "4. Test your code by running the program and deliberately entering invalid quantities and product names. Make sure the error handling mechanism works as expected.\n"
   ]
  },
  {
   "cell_type": "code",
   "execution_count": 10,
   "id": "2b0f7355",
   "metadata": {},
   "outputs": [],
   "source": [
    "def initialize_inventory(products):\n",
    "    inventory = {}\n",
    "    for product in products:\n",
    "        valid_input = False\n",
    "        while not valid_input:\n",
    "            try:\n",
    "                quantity = int(input(f\"Enter the quantity of {product}s available: \"))\n",
    "                if quantity > 0:\n",
    "                    inventory[product] = quantity\n",
    "                    valid_input = True\n",
    "                elif quantity == 0:\n",
    "                    valid_input = True\n",
    "                else:\n",
    "                    print(\"Quantity cannot be negative. Please enter a valid quantity.\")\n",
    "            except ValueError:\n",
    "                print(\"Invalid input. Please enter a valid quantity.\")\n",
    "    return inventory"
   ]
  },
  {
   "cell_type": "code",
   "execution_count": 11,
   "id": "3c4ab4a3",
   "metadata": {},
   "outputs": [
    {
     "data": {
      "text/plain": [
       "'\\ndef initialize_inventory (products):\\n#definimos el inventario y pedimos que introduzcan la cantidad de articulos que hay\\n\\n    inventory = {product: int(input(f\"How many {product} are in stock?\").strip()) for product in products}\\n    \\n    \\n\\n    return inventory '"
      ]
     },
     "execution_count": 11,
     "metadata": {},
     "output_type": "execute_result"
    }
   ],
   "source": [
    "\n",
    "\"\"\"\n",
    "def initialize_inventory (products):\n",
    "#definimos el inventario y pedimos que introduzcan la cantidad de articulos que hay\n",
    "\n",
    "    inventory = {product: int(input(f\"How many {product} are in stock?\").strip()) for product in products}\n",
    "    \n",
    "    \n",
    "\n",
    "    return inventory \"\"\""
   ]
  },
  {
   "cell_type": "code",
   "execution_count": 12,
   "id": "19615f21",
   "metadata": {},
   "outputs": [],
   "source": [
    "def get_customer_orders (inventory):\n",
    "\n",
    "    #le pedimos al cliente que objetos quiere comprar\n",
    "    \"\"\"\n",
    "\n",
    "    amount = int(input(\"How many products are you going to order??\").strip())\n",
    "\n",
    "    customer_orders = [ input(\"What item do you want to buy?\").strip() for item in range(amount)]\n",
    "    \n",
    "    \"\"\"\n",
    "\n",
    "    customer_orders = []\n",
    "    valid_mount = False\n",
    "    while not valid_mount:\n",
    "        try:\n",
    "            mount = int(input(\"How many products are you going to order??\").strip())\n",
    "            if mount > 0:\n",
    "                valid_mount = True\n",
    "                for x in range(0, mount):\n",
    "                    valid_input = False\n",
    "                    while not valid_input:\n",
    "                        item =input(\"What item do you want to buy?\").strip()\n",
    "                        if item in inventory:\n",
    "                            customer_orders.append(item)\n",
    "                            valid_input = True\n",
    "                        \n",
    "                        else:\n",
    "                            print(\"That element is not found in the database\")\n",
    "            else:\n",
    "                print(\"The number cannot be negative or 0. Please enter a valid number.\")\n",
    "                \n",
    "        except ValueError:\n",
    "            print(\"Invalid input. Please enter a valid number.\")\n",
    "    \n",
    "\n",
    "    return customer_orders"
   ]
  },
  {
   "cell_type": "code",
   "execution_count": 13,
   "id": "e3652cf5",
   "metadata": {},
   "outputs": [],
   "source": [
    "def update_inventory (customer_orders, inventory):\n",
    "#quitamos del inventario los productos pedidos\n",
    "    inventory = {key: value - 1 if key in  customer_orders else value for key, value in inventory.items()}\n",
    "    \n",
    "    inventory = {key: value for key, value in inventory.items() if value > 0}\n",
    "    \"\"\"\n",
    "    for product in customer_orders:\n",
    "        inventory[product] -= 1\n",
    "\n",
    "    cero_invetory = [key for key, value in inventory.items() if value == 0]\n",
    "\n",
    "    for item in cero_invetory:\n",
    "        del(inventory[item])\n",
    "    \"\"\"\n",
    "    return inventory"
   ]
  },
  {
   "cell_type": "code",
   "execution_count": 14,
   "id": "654ce7a1",
   "metadata": {},
   "outputs": [],
   "source": [
    "def calculate_order_statistics (customer_orders, products):\n",
    "#calculamos el porcentaje de productos pedidos en comparación con el total de productos \n",
    "\n",
    "    total_products_ordered = len(customer_orders)\n",
    "    percentage_ordered = (total_products_ordered / len(products)) * 100\n",
    "    order_statistics = (total_products_ordered, percentage_ordered)\n",
    "    return order_statistics"
   ]
  },
  {
   "cell_type": "code",
   "execution_count": 15,
   "id": "ebf5d3d0",
   "metadata": {},
   "outputs": [],
   "source": [
    "def print_order_statistics(order_statistics):\n",
    "#imprimimos el porcentaje de productos pedidos en comparación con el total de productos\n",
    "\n",
    "    print(\"Order Statistics:\")\n",
    "    print(\"Total Products Ordered:\", order_statistics[0])\n",
    "    print(\"Percentage of Unique Products Ordered:\", order_statistics[1])"
   ]
  },
  {
   "cell_type": "code",
   "execution_count": 16,
   "id": "9c72fb1d",
   "metadata": {},
   "outputs": [],
   "source": [
    "def print_updated_inventory (inventory):\n",
    "#imprimimos todo el inventario una vez actualizado\n",
    "\n",
    "    print(\"Updated Inventory:\")\n",
    "    for product in inventory:\n",
    "        print(f\"{product}:\", inventory[product])"
   ]
  },
  {
   "cell_type": "code",
   "execution_count": 17,
   "id": "36bdfa5e",
   "metadata": {},
   "outputs": [],
   "source": [
    "def calculate_the_total_price(customer_orders):\n",
    "    prices = 0\n",
    "    for item in customer_orders:\n",
    "        valid_input = False\n",
    "        while not valid_input:\n",
    "            try:\n",
    "                price = float(input(f\"What is the price the {item}?\").strip())\n",
    "                if price > 0:\n",
    "                    prices += price\n",
    "                    valid_input = True\n",
    "                else:\n",
    "                    print(\"The price cannot be negative. Please enter a valid number.\")\n",
    "                \n",
    "            except ValueError:\n",
    "                print(\"Invalid input. Please enter a valid number or whit '.' not ',' .\")\n",
    "        \n",
    "\n",
    "    print(f\"The price total: {prices}\") \n",
    "    \n",
    "    #prices =  {int(input(f\"What is the price the {item}?\").strip()) for item in customer_orders}"
   ]
  },
  {
   "cell_type": "code",
   "execution_count": 19,
   "id": "4dec9c52",
   "metadata": {},
   "outputs": [
    {
     "name": "stdout",
     "output_type": "stream",
     "text": [
      "Order Statistics:\n",
      "Total Products Ordered: 2\n",
      "Percentage of Unique Products Ordered: 40.0\n",
      "The price total: 3.0\n",
      "Updated Inventory:\n",
      "t-shirt: 2\n",
      "hat: 1\n",
      "book: 1\n",
      "keychain: 2\n"
     ]
    }
   ],
   "source": [
    "#definimos la lista de productos\n",
    "products = [\"t-shirt\", \"mug\", \"hat\", \"book\", \"keychain\"]\n",
    "\n",
    "#llamamos a las funciones\n",
    "\n",
    "inventory = initialize_inventory(products)\n",
    "\n",
    "customer_orders = get_customer_orders(inventory)\n",
    "\n",
    "inventory = update_inventory(customer_orders, inventory)\n",
    "\n",
    "order_statistics = calculate_order_statistics (customer_orders, products)\n",
    "\n",
    "print_order_statistics(order_statistics)\n",
    "\n",
    "calculate_the_total_price(customer_orders)\n",
    "\n",
    "print_updated_inventory (inventory)"
   ]
  },
  {
   "cell_type": "code",
   "execution_count": null,
   "id": "aa634868",
   "metadata": {},
   "outputs": [],
   "source": []
  }
 ],
 "metadata": {
  "kernelspec": {
   "display_name": "Python 3 (ipykernel)",
   "language": "python",
   "name": "python3"
  },
  "language_info": {
   "codemirror_mode": {
    "name": "ipython",
    "version": 3
   },
   "file_extension": ".py",
   "mimetype": "text/x-python",
   "name": "python",
   "nbconvert_exporter": "python",
   "pygments_lexer": "ipython3",
   "version": "3.11.7"
  }
 },
 "nbformat": 4,
 "nbformat_minor": 5
}
